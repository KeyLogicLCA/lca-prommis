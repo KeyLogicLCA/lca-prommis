{
 "cells": [
  {
   "cell_type": "markdown",
   "id": "d67c5d88",
   "metadata": {},
   "source": [
    "# **<span style=\"color: black; font-size:1em;\">PrOMMiS LCA Integration: Environmental Life Cycle Assessment Using PrOMMiS Modeling Results</span>**"
   ]
  },
  {
   "cell_type": "markdown",
   "id": "abd8a7ae",
   "metadata": {},
   "source": [
    "## <span style=\"color:black; font-weight:bold\"> Introduction </span> \n",
    "\n",
    "<span style = \"color:black\">\n",
    "This document demonstrates the application of Life Cycle Assessment (LCA) methodology to the optimized results from the PrOMMiS model.  \n",
    "This Jupyter Notebook presents an example LCA application to the West Kentucky No.13 Coal Refuse Flowsheet optimized in the PrOMMiS model.\n",
    "</br>\n",
    "\n",
    "<u> Goal and Scope:</u> In this Jupyter Notebook, we use life cycle assessment to evaluate the environmental impact of Rare Earth Oxide Recovery from coal mining refuse.</br>\n",
    "As shown in the system boundary below, the scope of this work starts with the leaching of size-reduced REE-rich feedstock (REE: Rare Earth Elements) and ends with the recovery of mixed REO solids. The process consists of six main stages: 1) Mixing and Leaching, 2) Rougher Solvent Extraction, 3) Cleaner Solvent Extraction, 4) Precipitation, 5) Solid-Liquid (S/L) separation, and 6) Roasting. </br>\n",
    "It's crucial to note here that the current script does not account for:\n",
    "\n",
    "* Upstream processes leading to the production of REE-rich feedstock \n",
    "\n",
    "\n",
    "* Downstream processes leading to the separation of REE contained in the REO    \n",
    "\n",
    "<u> Main Product:</u> The main product of the flowsheet modeled in this Jupyter Notebook is Rare Earth Oxide (REO) solid.\n",
    "\n",
    "<u> Co-products or by-products:</u> None\n",
    "\n",
    "<u> Functional Unit:</u> The function unit is 1 kg of recovered REO solids\n",
    "\n",
    "<u> Allocation:</u> The evaluated flowsheet produces a single product with no intermediate co-products or by-product. As a result, there is no need for allocation in this modeling exercise.\n",
    "\n",
    "<u> Life cycle inventory Estimation:</u> The material and energy inputs shown in the system boundary figure below have been shortlisted and estimated based on the UKy flowsheet output, [technical reports on the production on the production of REE from coal and coal by-products](https://www.osti.gov/servlets/purl/1569277), and other relevant literature.\n",
    "</span>\n",
    "\n",
    "<span style = \"color:black\">\n",
    "\n",
    "**Useful notes, definitions, and links:**\n",
    "- **PrOMMiS model:** Process Optimization and Modeling for Minerals Sustainability initiative, led by the U.S. Department of Energy (DOE), specifically under NETL (National Energy Technology Laboratory). The PrOMMiS source code can be accessed on github through the following repository link: [https://github.com/prommis/prommis/tree/main](https://github.com/prommis/prommis/tree/main)<br> PrOMMiS serves to optimize processing flowsheets. This Jupyter Notebook focuses on a flowsheet for the extraction of REE from coal refuse. \n",
    "\n",
    "\n",
    "- **UKy Flowsheet Code:** [https://github.com/prommis/prommis/blob/main/src/prommis/uky/uky_flowsheet.py](https://github.com/prommis/prommis/blob/main/src/prommis/uky/uky_flowsheet.py)\n",
    "\n",
    "</span>"
   ]
  },
  {
   "cell_type": "markdown",
   "id": "8e0f4143",
   "metadata": {},
   "source": [
    "<div style=\"text-align: center;\">\n",
    "    <img src=\"images/system_boundary_1.png\" width=\"1000\"/>\n",
    "</div>"
   ]
  },
  {
   "cell_type": "markdown",
   "id": "a56d543d",
   "metadata": {},
   "source": [
    "## <span style=\"color:black; font-weight:bold\"> Step 1: Import the necessary tools </span> "
   ]
  },
  {
   "cell_type": "code",
   "execution_count": null,
   "id": "18ef7b90",
   "metadata": {},
   "outputs": [],
   "source": [
    "# import main libraries\n",
    "import pandas as pd\n",
    "import olca_schema as olca\n",
    "\n",
    "from netlolca.NetlOlca import NetlOlca\n",
    "\n",
    "import prommis.uky.uky_flowsheet as uky # module to run the PrOMMiS model\n",
    "import src as lca_prommis"
   ]
  },
  {
   "cell_type": "markdown",
   "id": "09353951-5a15-459f-a25d-23c95a19cf55",
   "metadata": {},
   "source": [
    "## <span style=\"color:black; font-weight:bold\"> Step 2: Run PrOMMiS Optimization Model for the UKy flowsheet and extract model results  </span> "
   ]
  },
  {
   "cell_type": "markdown",
   "id": "d2bc10ff",
   "metadata": {},
   "source": [
    "<span style=\"color:black\">  \n",
    "\n",
    "In the next cell, the main() [function](https://github.com/prommis/prommis/blob/main/src/prommis/uky/uky_flowsheet.py#L255) runs the UKy flowsheet. This step includes:\n",
    "\n",
    "* Building and connecting the unit model blocks present in the UKy REE processing plant.\n",
    "* Setting the scaling factors\n",
    "* Setting the operating conditions\n",
    "* Initializing the values for all streams in the system\n",
    "* Solving the system\n",
    "\n",
    "This function returns a model object which is used to extract all the PrOMMiS results needed to estimate the flowsheet material and energy inputs.\n",
    "\n",
    "The [get_lca_df()](https://github.com/KeyLogicLCA/lca-prommis/blob/main/src/prommis_LCA_data.py#L72) function extracts the main PrOMMiS results to calculate material and energy flows needed to develop a life cycle assessment model.\n",
    "The inventory estimation is primarily based on the results reported by the PrOMMiS model with a few exceptions:\n",
    "* The oxalic acid input rate is estimated based on the known input of sulfuric acid, and applying the ratio of Oxalic acid to sulfuric acid as reported in the literature for similar processes.\n",
    "* Reducing agent and caustic solution inputs are reported in [similar flowsheets](https://www.osti.gov/servlets/purl/1569277) for the solvent extraction stages. However, the input amounts are not reported in the UKy flowsheet in PrOMMiS, and as such are omitted in this analysis due to the lack of data and information to estimate them. \n",
    "</br>\n",
    "\n",
    "</span>"
   ]
  },
  {
   "cell_type": "code",
   "execution_count": null,
   "id": "9f0e9790",
   "metadata": {},
   "outputs": [],
   "source": [
    "# Run UKy flowsheet, and get prommis model\n",
    "m, _ = uky.main() \n",
    "\n",
    "# Extract LCA data\n",
    "prommis_data = lca_prommis.data_lca.get_lca_df(m)\n",
    "prommis_data.to_csv(\"output/lca_df.csv\")"
   ]
  },
  {
   "cell_type": "markdown",
   "id": "bab72eee",
   "metadata": {},
   "source": [
    "## <span style=\"color:black; font-weight:bold\"> Step 3: Review PrOMMiS Results </span> "
   ]
  },
  {
   "cell_type": "code",
   "execution_count": null,
   "id": "63f5b88b",
   "metadata": {},
   "outputs": [],
   "source": [
    "prommis_data"
   ]
  },
  {
   "cell_type": "markdown",
   "id": "b2c4312d",
   "metadata": {},
   "source": [
    "## <span style=\"color:black; font-weight:bold\"> Step 4: Organize, Categorize, and Covert PrOMMiS Results to LCA Relevant Flows </span> "
   ]
  },
  {
   "cell_type": "markdown",
   "id": "1a532d54",
   "metadata": {},
   "source": [
    "<span style = \"color:black\">\n",
    "\n",
    "**Purpose:** This step converts the raw PrOMMiS model results into Life Cycle Assessment (LCA) relevant units.\n",
    "\n",
    "The [convert_flows_to_lca_units()](https://github.com/KeyLogicLCA/lca-prommis/blob/main/src/prommis_LCA_conversions.py#L121) function processes the PrOMMiS data extracted in Step 2 and performs several key unit changes:\n",
    "\n",
    "- Converts all flow rates and mass/mole fractions from the PrOMMiS model (which reports streams in kg/hr, mol/hr, etc. and components by mass or mole fraction) into equivalent quantities (e.g., mass or volume).\n",
    "- Converts molar flows to mass flows using molecular weights when mol_to_kg=True using the pubchempy and pymatgen libraries\n",
    "- Standardizes water flows to a specified unit (m3, L, or kg)\n",
    "\n",
    "<u><b>Calculation example:</u></b> If the flow rate is 10 kg/hr and the mass fraction of 'Input 1' is 20%, the mass of 'Input 1' is calculated as 10*20/100 = <b>4.536 kg</b>. All the inventory is estimating on the basis of a 1-hour timestep.   \n",
    "\n",
    "Key Parameters:\n",
    "\n",
    "- ```hours=1```: Time period for conversion (1 hour based on PrOMMiS model timestep).</br> \n",
    "<u>Important note on timestep selection</u>: After converting values into LCA-relevant units, all emissions, as well as material and energy inputs, are normalized to the functional unit: in this case, 1 kg of REO product. This is done by dividing each input and emission by the amount of REO produced. In doing so, the influence of timestep selection is removed. Therefore, the chosen timestep has no impact on the final exchanges table used to build the openLCA model. \n",
    "- ```mol_to_kg=True```: Converts molar flows to mass flows using molecular weights\n",
    "- ```water_unit='m3'```: Standardizes water flows to cubic meters. Other options are 'L' and 'kg' (kg may cause errors when assigning a unit in openLCA)\n",
    "\n",
    "The function creates a new DataFrame with two additional columns:\n",
    "\n",
    "- **LCA_Amount:** The amount for a flow in the new LCA unit\n",
    "- **LCA_Unit:** The standardized unit for LCA modeling\n",
    "\n",
    "This converted data is saved as ```output/lca_df_converted.csv```\n",
    "\n",
    "\n",
    "</span>"
   ]
  },
  {
   "cell_type": "code",
   "execution_count": null,
   "id": "4be3e682",
   "metadata": {},
   "outputs": [],
   "source": [
    "# Hours is the time period for the conversion\n",
    "# mol_to_kg is a boolean that indicates whether to convert moles to kg\n",
    "# water_unit is the unit of water (m3 or L recommended, kg is also an option)\n",
    "df = lca_prommis.convert_lca.convert_flows_to_lca_units(prommis_data, hours=1, mol_to_kg=True, water_unit='m3')\n",
    "df.to_csv('output/lca_df_converted.csv', index=False)\n",
    "\n",
    "# This will create a new datafrane and csv file that contains the initial prommis_data df with two additional columns:\n",
    "# 'LCA Amount' and 'LCA Unit'"
   ]
  },
  {
   "cell_type": "markdown",
   "id": "468b3002",
   "metadata": {},
   "source": [
    "## <span style=\"color:black; font-weight:bold\"> Step 5: Normalize Flows to the Selected Functional Unit and Review Final LCA Flows </span> "
   ]
  },
  {
   "cell_type": "markdown",
   "id": "81114cd8",
   "metadata": {},
   "source": [
    "<span style = \"color:black\">\n",
    "\n",
    "**Purpose:** This step transforms the converted PrOMMiS model results into a standardized format suitable for Life Cycle Assessment (LCA) modeling by normalizing flows into a functional unit, merging identical flows, and organizing the data according to LCA conventions.\n",
    "\n",
    "This cell outlines the steps taken in the [main() function in finalize_LCA_flows.py](https://github.com/KeyLogicLCA/lca-prommis/blob/main/src/finalize_LCA_flows.py#L90). This code makes the following changes to the LCA data:\n",
    "\n",
    "- Merges the following flows into single flows:\n",
    "    - Merges the solid feed flows into a singular REO feed input flow\n",
    "    - Merges the solid output flows into a singular REO product flow\n",
    "    - Merges wastewater flows into a single flow for liquid waste\n",
    "    - Merges solid waste flows into a single flow for solid waste\n",
    "- Normalizes all flows based on the reference flow, 1 kg 73.4% REO Product\n",
    "- Creates a new dataframe with columns matching openLCA format:\n",
    "    - Adds a new *category* column for all flows\n",
    "    - Adds new *context* and *UUID* columns for elementary flows using FEDEFL\n",
    "\n",
    "This converted data is saved as ```output/lca_df_finalized.csv```\n",
    "\n",
    "\n",
    "</span>"
   ]
  },
  {
   "cell_type": "code",
   "execution_count": null,
   "id": "537e897e",
   "metadata": {},
   "outputs": [],
   "source": [
    "# The below code will normalize the converted prommis data to a functional unit\n",
    "# Note: This code is developed for the UKy flowsheet and the functional unit is automatically set to 1 kg of REO (combination of all REEs)\n",
    "# TODO: This code should be developed for the other flowsheets. To achieve this, the user should be able to specify the desired functional unit\n",
    "df = pd.read_csv('output/lca_df_converted.csv')\n",
    "\n",
    "# Run the merge_flows function for the feed\n",
    "REO_list = [\n",
    "    \"Yttrium Oxide\",\n",
    "    \"Lanthanum Oxide\",\n",
    "    \"Cerium Oxide\",\n",
    "    \"Praseodymium Oxide\",\n",
    "    \"Neodymium Oxide\",\n",
    "    \"Samarium Oxide\",\n",
    "    \"Gadolinium Oxide\",\n",
    "    \"Dysprosium Oxide\",\n",
    "]\n",
    "df = lca_prommis.final_lca.merge_flows(df, merge_source='Solid Feed', new_flow_name='374 ppm REO Feed', value_2_merge=REO_list)\n",
    "# This 374 ppm value is directly calculated from the flowsheet. The original study actually used 357 ppm as the feed concentration.\n",
    "\n",
    "# Run the merge_flows function for the product\n",
    "df = lca_prommis.final_lca.merge_flows(df, merge_source='Roaster Product', new_flow_name='73.4% REO Product')\n",
    "\n",
    "# Run the merge_flows function for the liquid waste flows\n",
    "df = lca_prommis.final_lca.merge_flows(df, merge_source='Wastewater', new_flow_name='Wastewater', merge_column='Category') \n",
    "# Note: some of these streams are organic waste, but they're treated as wastewater\n",
    "\n",
    "# Run the merge_flows function for the solid waste flows\n",
    "df = lca_prommis.final_lca.merge_flows(df, merge_source='Solid Waste', new_flow_name='Solid Waste', merge_column='Category') \n",
    "\n",
    "# Run the finalize_df function\n",
    "try:\n",
    "    finalized_df = lca_prommis.final_lca.finalize_df(\n",
    "        df=df, \n",
    "        reference_flow='73.4% REO Product', \n",
    "        reference_source='Roaster Product',\n",
    "        water_type='raw fresh water'\n",
    "    )\n",
    "    \n",
    "    # Get summary\n",
    "    summary = lca_prommis.final_lca.get_finalize_summary(finalized_df)\n",
    "    print(\"Summary:\")\n",
    "    for key, value in summary.items():\n",
    "        if key != 'flow_type_breakdown':\n",
    "            print(f\"  {key}: {value}\")\n",
    "    \n",
    "    print(\"\\nFlow Type Breakdown:\")\n",
    "    for flow_type, count in summary['flow_type_breakdown'].items():\n",
    "        print(f\"  {flow_type}: {count}\")\n",
    "        \n",
    "except Exception as e:\n",
    "    print(f\"Error during finalization: {e}\")\n",
    "\n",
    "finalized_df.to_csv('output/lca_df_finalized.csv', index=False)\n",
    "finalized_df"
   ]
  },
  {
   "cell_type": "markdown",
   "id": "415efae3",
   "metadata": {},
   "source": [
    "## <span style=\"color:black; font-weight:bold\"> Step 6: Connect to openLCA </span> "
   ]
  },
  {
   "cell_type": "markdown",
   "id": "40a8e272",
   "metadata": {},
   "source": [
    "#### <span style=\"color:black; font-weight:bold\"> Using this Jupyter Notebook with openLCA </span> "
   ]
  },
  {
   "cell_type": "markdown",
   "id": "1cc0faf6",
   "metadata": {},
   "source": [
    "<span style = \"color:black\">\n",
    "In the following modeling stages, this Jupyter Notebook creates an openLCA process, converts it to a product system, and calculates the environmental impacts of the flowsheet described in the introduction.  \n",
    "As a result, please follow these steps before proceeding to the next cell in this notebook:\n",
    "\n",
    "* Open openLCA on your desktop, prefereable with a version > 2.50\n",
    "\n",
    "* Download the PrOMMiS openLCA database from EDX (Next Cell). The PrOMMiS database contains all the processes and impact assessment methods needed to build and evaluate the UKy flowsheet in openLCA.\n",
    "\n",
    "* Import and open the PrOMMiS openLCA database\n",
    "\n",
    "* Connect to IPC server (Port 8080). Go to Tools > Developer Tools > IPC Server > Connect\n",
    "\n",
    "</span>\n",
    " "
   ]
  },
  {
   "cell_type": "markdown",
   "id": "06a8e497",
   "metadata": {},
   "source": [
    "#### <span style=\"color:black; font-weight:bold\"> Download PrOMMiS Database from EDX </span> "
   ]
  },
  {
   "cell_type": "markdown",
   "id": "f38b95d1",
   "metadata": {},
   "source": [
    "<span style = \"color:black\">\n",
    "The cell below downloads the PrOMMiS openLCA database from EDX in JSONLD format and save it in a dedicated 'resources' folder in the current working directory. The following cell will require your EDX API key to download the requested database. Note that the resource ID is set in the next cell but it's advised to cross-check that the ID is correct. The database is constantly being improved and updated, and as a result can have a different resource ID.</br>\n",
    "\n",
    "The PrOMMiS openLCA database includes:\n",
    "\n",
    "* The life cycle assessment methods evaluating numerous categories including: water consumption, cumulative energy demand, global warming potential, and acidification potential.\n",
    "\n",
    "* The background data needed to model the coal refuse flowsheet. This data was retrieved from open-source databases including: USLCI, NETL UP library, and literature. Noteworthy, some processes were unavailable in open-source databases and as a result were modeled and icnluded in the PrOMMiS openLCA database using the following approaches:</br>\n",
    "    * <b><u>Oxalic Acid</b></u>: The inventory for oxalic was retrieved from ecoinvent v3.11 using the followig process: Oxalic acid {RoW}| oxalic acid production | Cut-off, S </br>\n",
    "    * <b><u>Ascorbic Acid</b></u>: The inventory for oxalic was retrieved from ecoinvent v3.11 using the followig process: Ascorbic acid {GLO}| market for ascorbic acid | Cut-off, S</br>\n",
    "    * <b><u>DEHPA</b></u>: The foreground data for DEHPA was retrieved from Cao et al.(2023). To model DEHPA using the literature foreground data, we used the following inventory from the ecoinvent database:</br>\n",
    "        * <b><u>Acetaldehyde</b></u>:The inventory for acetaldehyde was retrieved from ecoinvent v3.11 using the followig process: Acetaldehyde {GLO}| market for acetaldehyde | Cut-off, S </br>\n",
    "        * <b><u>Phosphorus oxychloride</b></u>: The inventory for phosphorus oxychloride was retrieved from ecoinvent v3.11 using the followig process: Phosphorus oxychloride {GLO}| market for phoshorus oxychloride | Cut-off, S </br>\n",
    "\n",
    "<b><u>Instructions to open the PrOMMiS openLCA database</b></u>:</br>\n",
    "\n",
    "* Create an empty database: New Database > From Scratch > Database content: Empty Database\n",
    "* Open the database you created\n",
    "* Import the PrOMMiS_LCA_db that you downloaded: Right Click > Import > File > \"PrOMMiS_LCA_db\" > Overwrite all existing data sets\n",
    "* The PrOMMiS database uses an openLCA library that is provided by the Federal [LCA Commons](). The required libraries can be downloaded via the following [link] (https://github.com/FLCAC-admin/uslci-content/raw/refs/heads/dev/downloads/U.S._electricity_baseline_v1.2025-06.0.zip).</br>\n",
    "\n",
    "<b><u>Sources</b></u>:</br>\n",
    "[1] ecoinvent. (2024, November). ecoinvent version 3.11. Ecoinvent. \n",
    "[2] Yuanyu Cao, Liang Li, Ying Zhang, Zengwen Liu, Liqi Wang, Fan Wu, Jing You, Co-products recovery does not necessarily mitigate environmental and economic tradeoffs in lithium-ion battery recycling, Resources, Conservation and Recycling, Volume 188, 2023, 106689, ISSN 0921-3449, https://doi.org/10.1016/j.resconrec.2022.106689.\n",
    "\n",
    "To verify that you're using the correct resource ID, follow this link: [https:/edx.netl.doe.gov/workspace/resources/prommis-lca-integration](https:/edx.netl.doe.gov/workspace/resources/prommis-lca-integration) \n",
    "</span>\n",
    " "
   ]
  },
  {
   "cell_type": "code",
   "execution_count": null,
   "id": "69dd35a1",
   "metadata": {},
   "outputs": [],
   "source": [
    "# This is the resource ID of the PrOMMiS openLCA database as of September 30, 2025\n",
    "resource_id = '1146b7de-ffca-4eec-9f0f-96e78488f52f'\n",
    "\n",
    "# The function below downloads the database and saves it in a 'resources' folder in the current work directory\n",
    "lca_prommis.import_db.import_db(resource_id)"
   ]
  },
  {
   "cell_type": "markdown",
   "id": "a70b4c2f",
   "metadata": {},
   "source": [
    "#### <span style=\"color:black; font-weight:bold\"> Connect to openLCA IPC Server </span> "
   ]
  },
  {
   "cell_type": "code",
   "execution_count": null,
   "id": "cc31e254",
   "metadata": {},
   "outputs": [],
   "source": [
    "netl = NetlOlca()\n",
    "netl.connect()\n",
    "netl.read()"
   ]
  },
  {
   "cell_type": "markdown",
   "id": "b49e1b9a",
   "metadata": {},
   "source": [
    "#### <span style=\"color:black; font-weight:bold\"> Import Exchanges Table </span> "
   ]
  },
  {
   "cell_type": "markdown",
   "id": "fe6feda5",
   "metadata": {},
   "source": [
    "<span style=\"color:black\"> \n",
    "To create a process in openLCA we need to import the exchanges table generates in previous steps.\n",
    "The exchanges table should have the following:\n",
    "\n",
    "* <u> Flow Name:</u> this will be later used to guide you in creating exchanges\n",
    "* <u>LCA Amount:</u> This is the amount normalized to 1 kg of the quantitative reference flow. In this case, it is the amount per kg REO product.\n",
    "* <u>LCA Unit</u>\n",
    "* <u>Is_input:</u> Determines whether the created exchange is an input or an output\n",
    "* <u>Reference Product:</u> There should be one reference product. For example, in this case its the REO Product.\n",
    "* <u>Flow Type</u>\n",
    "* <u>Category:</u> Flows are labeled as Technosphere flows (referred to as product flows in openLCA), waste flows, and elementary flows.\n",
    "* <u>Context:</u> Elementary flows are assigned a context such as: emission/air, emission/ground, resource/ground, etc.\n",
    "* <u>UUID:</u> Since elementary flows should be assigned a FEDEFL compliant flow in openLCA, they are automatically assigned a UUID. The UUID is assigned based on matching flow name and context in the Federal Elementary Flow List.\n",
    "* <u>Description</u>\n",
    "\n",
    "</span>"
   ]
  },
  {
   "cell_type": "code",
   "execution_count": null,
   "id": "ad4f062f",
   "metadata": {},
   "outputs": [],
   "source": [
    "# Save the LCA data produced in previous steps in a dataframe called df\n",
    "df = pd.read_csv('output/lca_df_finalized.csv')\n",
    "df.head(20)"
   ]
  },
  {
   "cell_type": "markdown",
   "id": "65e26565",
   "metadata": {},
   "source": [
    "#### <span style=\"color:black; font-weight:bold\"> Enter Process Information </span> \n",
    "\n",
    "##### <span style=\"color:black; font-weight:bold\"> Unit Process Name </span> "
   ]
  },
  {
   "cell_type": "code",
   "execution_count": null,
   "id": "0121e236",
   "metadata": {},
   "outputs": [],
   "source": [
    "process_name = \"REO Extraction From Coal Mining Refuse | UKy Flowsheet\""
   ]
  },
  {
   "cell_type": "markdown",
   "id": "ae60c887",
   "metadata": {},
   "source": [
    "##### <span style=\"color:black; font-weight:bold\"> Unit Process Description </span> "
   ]
  },
  {
   "cell_type": "code",
   "execution_count": null,
   "id": "46304b81",
   "metadata": {},
   "outputs": [],
   "source": [
    "process_description = \"This process involves the production of a Rare Earth Oxide solid extraction from coal mining refuse. The scope of this work starts with the leaching of size-reduced REE-rich feedstock (REE: Rare Earth Elements) and ends with the recovery of mixed REO solids. The process consists of six main stages: 1) Mixing and Leaching, 2) Rougher Solvent Extraction, 3) Cleaner Solvent Extraction, 4) Precipitation, 5) Solid-Liquid (S/L) separation, and 6) Roasting. This process does not account for upstream processes leading to the production of REE-rich feedstock nor does it account for Downstream processes leading to the separation of REE contained in the REO. The main product is a rare earth oxide solid with no other by-products or co-products. The functional unit is 1 kg of recovered REO solids. The material and energy inputs shown in the system boundary figure below have been shortlisted and estimated based on the UKy flowsheet output, as well as other relevant literature.\""
   ]
  },
  {
   "cell_type": "markdown",
   "id": "e4ddb03a",
   "metadata": {},
   "source": [
    "##### <span style=\"color:black; font-weight:bold\"> Create process with exchanges </span> "
   ]
  },
  {
   "cell_type": "markdown",
   "id": "9034e85e",
   "metadata": {},
   "source": [
    "<span style=\"color:black\">  \n",
    "In the next step, the function reads the exchanges table and examines each row:\n",
    "</br>\n",
    "\n",
    "* If the exchange is a reference product, the user can: 1) create an exchange using an existing flow in the PrOMMiS database or 2) create a new flow, create an exchange for it, and set it as a quantitative reference (e.g., reference product)\n",
    "</br>\n",
    "\n",
    "* If the exchange is an elementary flow, the function automatically creates an exchange for it using the given uuid.\n",
    "</br>\n",
    "\n",
    "* If the exchange is a technosphere or waste flow, the user has to select a flow and and provider in order to create an exchange, using the following sequence:\n",
    "    1) Enter keyword to search for a flow\n",
    "    2) Select a flow from a provided list. The function automatically creates a list of all providers generating this flow.\n",
    "    3) Select a provider from the provided list.\n",
    "\n",
    "    \n",
    "</span>"
   ]
  },
  {
   "cell_type": "code",
   "execution_count": null,
   "id": "db70773f",
   "metadata": {},
   "outputs": [],
   "source": [
    "### create process usign the create_new_process function\n",
    "process = lca_prommis.create_lca.create_new_process(netl,df,process_name,process_description)\n",
    "# get the process uuid to be used in the following step when create a product system\n",
    "process_id = process.id\n",
    "# NOTE: For future discussion - is it better to select the flow then the provider (current status) or pick provider first then select relevant flows?"
   ]
  },
  {
   "cell_type": "markdown",
   "id": "e884dcf2",
   "metadata": {},
   "source": [
    "##### <span style=\"color:black; font-weight:bold\"> Create product system </span> "
   ]
  },
  {
   "cell_type": "markdown",
   "id": "65b23081",
   "metadata": {},
   "source": [
    "<span style=\"color:black\">  \n",
    "In the following cell, the created process is used to generate a product system and build the supply chain.\n",
    "</span>"
   ]
  },
  {
   "cell_type": "code",
   "execution_count": null,
   "id": "815a15c9",
   "metadata": {
    "scrolled": true
   },
   "outputs": [],
   "source": [
    "# create product system\n",
    "ps = lca_prommis.create_ps.create_ps(netl, process_id)\n",
    "# get product system id to use in next step \n",
    "ps_uuid = ps.id"
   ]
  },
  {
   "cell_type": "markdown",
   "id": "a3ead577",
   "metadata": {},
   "source": [
    "##### <span style=\"color:black; font-weight:bold\"> Conduct analysis </span> "
   ]
  },
  {
   "cell_type": "markdown",
   "id": "92c87904",
   "metadata": {},
   "source": [
    "<span style=\"color:black\">  \n",
    "To conduct the analysis, we need to define three main elements:\n",
    "\n",
    "* <u>The client</u>: In this case it is netl created in previous cells\n",
    "* <u>The product system</u>: The cell above creates a product system and extracts its Universally Unique Identifier (UUID)\n",
    "* <u>The impact assessment method</u>: The PrOMMiS openLCA database is downloaded in the beginning of step 6. This database contains an impact assessment method that encloses the following impact cateogories:\n",
    "    * <i>Acidification Potential</i>: Imported from TRACI 2.1\n",
    "    * <i>Cumulative Energy Demand</i>: developed by compiling all the characterization factors from the Federal LCA Commons CED method\n",
    "    * <i>Cumulative Energy Demand - Non-renewable</i>: Developed by only including the characterization factors for non-renewable resources\n",
    "    * <i>Cumulative Energy Demand - renewable</i>: Developed by only including the characterization factors for renewable resources\n",
    "    * <i>Eutrophication Potential</i>: Imported from TRACI 2.1\n",
    "    * <i>Global Warming Potential [AR6, 100 yr]</i>: Imported from TRACI 2.1\n",
    "    * <i>Global Warming Potential [AR6, 20 yr]</i>: Imported from TRACI 2.1\n",
    "    * <i>Human Health - cancer</i>: Imported from TRACI 2.1\n",
    "    * <i>Human Health - non-cancer</i>: Imported from TRACI 2.1\n",
    "    * <i>Human Health - particulate matter</i>: Imported from TRACI 2.1\n",
    "    * <i>Ozone depletion</i>: Imported from TRACI 2.1\n",
    "    * <i>Smog Formation</i>: Imported from TRACI 2.1\n",
    "    * <i>Water Consumption (NETL)</i>: Developed by NETL - imported from TRACI 2.1 (NETL)\n",
    "    \n",
    ">>>><i><b>NOTE</b></i>: The impact assessment method is defined in the cell below using its UUID. The PrOMMiS openLCA database, and consequently the impact assessment method enclosed in it, might change due to ongoing improvement. It's advised to check the impact assessment method UUID in openLCA before running the next cell.\n",
    "</span>"
   ]
  },
  {
   "cell_type": "code",
   "execution_count": null,
   "id": "ffbfdb01",
   "metadata": {},
   "outputs": [],
   "source": [
    "# Impact asessment method UUID\n",
    "impact_method_uuid = '60cb71ff-0ef0-4e6c-9ce7-c885d921dd15'\n",
    "# Generate result. The outcome of the run_analysis is a result object which \n",
    "# will be used in the following cells to extract total and contribution tree results.\n",
    "result = lca_prommis.run_analysis.run_analysis(netl, ps_uuid, impact_method_uuid)"
   ]
  },
  {
   "cell_type": "markdown",
   "id": "5e5f0a21",
   "metadata": {},
   "source": [
    "##### <span style=\"color:black; font-weight:bold\"> Generate Results - Total Environmental Impact </span> "
   ]
  },
  {
   "cell_type": "markdown",
   "id": "21e84055",
   "metadata": {},
   "source": [
    "<span style=\"color:black\">  \n",
    "In the next cell, the generate_total_results extracts the total environmental impact from the 'result' object for each impact category.\n",
    "</span>"
   ]
  },
  {
   "cell_type": "code",
   "execution_count": null,
   "id": "7020f5e5",
   "metadata": {},
   "outputs": [],
   "source": [
    "# use the generate_total_results function to generate the total environmental impacts\n",
    "# this also stores the results in a csv stored in the output folder\n",
    "result.wait_until_ready()\n",
    "total_impacts = lca_prommis.generate_total_results.generate_total_results(result)\n",
    "total_impacts"
   ]
  },
  {
   "cell_type": "markdown",
   "id": "36648ebe",
   "metadata": {},
   "source": [
    "##### <span style=\"color:black; font-weight:bold\"> Generate Results - Contribution Tree </span> "
   ]
  },
  {
   "cell_type": "markdown",
   "id": "f409b4e6",
   "metadata": {},
   "source": [
    "<span style=\"color:black\">  \n",
    "In the following cell, the generate_contribution_tree function extracts the contribution by category.\n",
    "The contribution tree has two main aspects:\n",
    "\n",
    "* <i><u>The maximum number of nodes</u></i>: The number of nodes reflects the number of child/constituting nodes to be expanded (e.g., electricity, heat, sulfuric acic, etc.). <i><u><b>Note:</b></u></i> Setting the number of nodes to (-1) returns all the nodes possible <i>(Recommended)</i>.\n",
    "</br>\n",
    "\n",
    "* <i><u>The maximum number of levels</u></i>: The number of levels reflects the number of steps away from the main product. <i><u><b>Note:</b></u></i> Setting the number of levels to (1) reports the total impact for each node without any further remifications.\n",
    "\n",
    "\n",
    "><i><b>NOTE</b></i>: If you set download_results to True, the contribution tree results will be downloaded and can be accessed through the 'output' folder in the current working directory.\n",
    "\n",
    "</span>"
   ]
  },
  {
   "cell_type": "code",
   "execution_count": null,
   "id": "1af1df7a",
   "metadata": {},
   "outputs": [],
   "source": [
    "# Input the number of nodes\n",
    "max_expand_nodes = int(input(\"Please enter the maximum number of nodes: \"))\n",
    "\n",
    "# Input the number of levels\n",
    "max_expand_levels = int(input (\"Please enter the maximum number of levels: \"))\n",
    "\n",
    "# Generate the contirbution results\n",
    "lca_prommis.generate_contribution_tree.generate_contribution_tree(result, max_expand_levels, max_expand_nodes, download_results = True)"
   ]
  },
  {
   "cell_type": "markdown",
   "id": "cc6aec3a",
   "metadata": {},
   "source": [
    "##### <span style=\"color:black; font-weight:bold\"> Plot Results </span> "
   ]
  },
  {
   "cell_type": "code",
   "execution_count": null,
   "id": "f15505c1",
   "metadata": {},
   "outputs": [],
   "source": [
    "lca_prommis.plot_results.plot_results(result)"
   ]
  }
 ],
 "metadata": {
  "kernelspec": {
   "display_name": "Python 3 (ipykernel)",
   "language": "python",
   "name": "python3"
  },
  "language_info": {
   "codemirror_mode": {
    "name": "ipython",
    "version": 3
   },
   "file_extension": ".py",
   "mimetype": "text/x-python",
   "name": "python",
   "nbconvert_exporter": "python",
   "pygments_lexer": "ipython3",
   "version": "3.13.5"
  }
 },
 "nbformat": 4,
 "nbformat_minor": 5
}
