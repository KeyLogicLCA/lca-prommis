{
 "cells": [
  {
   "cell_type": "markdown",
   "id": "d67c5d88",
   "metadata": {},
   "source": [
    "# **<span style=\"font-size:1em;\">PrOMMiS LCA Integration: Environmental Life Cycle Assessment Using PrOMMiS Modeling Results</span>**"
   ]
  },
  {
   "cell_type": "markdown",
   "id": "abd8a7ae",
   "metadata": {},
   "source": [
    "## Introduction\n",
    "\n",
    "This document demonstrates the application of Life Cycle Assessment (LCA) methodology to the optimized results from the PrOMMiS model.  \n",
    "This Jupyter Notebook presents an example LCA application to the West Kentucky No.13 Coal Refuse Flowsheet optimized in the PrOMMiS model.\n",
    "\n",
    "**Useful notes, definitions, and links:**\n",
    "- **PrOMMiS model:** Process Optimization and Modeling for Minerals Sustainability initiative, led by the U.S. Department of Energy (DOE), specifically under NETL (National Energy Technology Laboratory).\n",
    "- **PrOMMiS public GitHub Repository:** [https://github.com/prommis/prommis/tree/main](https://github.com/prommis/prommis/tree/main)\n",
    "- **UKy Flowsheet Code:** [https://github.com/prommis/prommis/blob/main/src/prommis/uky/uky_flowsheet.py](https://github.com/prommis/prommis/blob/main/src/prommis/uky/uky_flowsheet.py)"
   ]
  },
  {
   "cell_type": "markdown",
   "id": "8e0f4143",
   "metadata": {},
   "source": [
    "<div style=\"text-align: center;\">\n",
    "    <img src=\"images\\uky_flowsheet.png\" width=\"1000\"/>\n",
    "</div>"
   ]
  },
  {
   "cell_type": "markdown",
   "id": "a56d543d",
   "metadata": {},
   "source": [
    "## Step 1: Import the necessary tools"
   ]
  },
  {
   "cell_type": "code",
   "execution_count": null,
   "id": "18ef7b90",
   "metadata": {},
   "outputs": [
    {
     "name": "stdout",
     "output_type": "stream",
     "text": [
      "✅ olca-ipc and olca-schema imported successfully\n"
     ]
    }
   ],
   "source": [
    "# import main libraries\n",
    "import pandas as pd\n",
    "import numpy\n",
    "import olca_ipc\n",
    "import olca_schema\n",
    "\n",
    "# module to run the PrOMMiS model and extract data \n",
    "from src import prommis_LCA_data\n",
    "# module to run convert the PrOMMiS model data to LCA data\n",
    "from src import prommis_LCA_conversions\n",
    "\n",
    "# modules to connect to openLCA\n",
    "from src.create_olca_process.olca_utils import (\n",
    "    initialize_client, print_database_summary, generate_id, find_entity_by_name\n",
    ")\n",
    "from src.create_olca_process.dataframe_utils import (\n",
    "    create_sample_dataframe, print_dataframe_summary, validate_dataframe_columns, \n",
    "    load_dataframe_from_csv, get_amount_from_dataframe_row\n",
    ")\n",
    "from src.create_olca_process.search_utils import (\n",
    "    get_existing_processes, search_processes_by_keywords\n",
    ")\n",
    "from src.create_olca_process.user_interface import (\n",
    "    show_process_selection_menu, get_yes_no_input, get_user_search_choice, \n",
    "    show_unit_selection_in_flow_menu, show_flow_process_selection_menu\n",
    ")\n",
    "from src.create_olca_process.process_manager import create_process_from_dataframe_with_selection\n",
    "from src.create_olca_process.flow_manager import find_compatible_flow_pattern, search_flows_by_name\n",
    "from src.create_olca_process.unit_manager import (\n",
    "    get_existing_units, get_common_unit_suggestions, search_units_by_name, \n",
    "    find_units_in_flow, find_unit_in_flow_by_name, create_unit_from_dataframe_row\n",
    ")"
   ]
  },
  {
   "cell_type": "markdown",
   "id": "1f5d286a",
   "metadata": {},
   "source": [
    "## Step 2: Run PrOMMiS Optimization Model for the UKy flowsheet and extract model results "
   ]
  },
  {
   "cell_type": "code",
   "execution_count": null,
   "id": "9f0e9790",
   "metadata": {},
   "outputs": [],
   "source": [
    "# Run PrOMMiS model and extract data\n",
    "prommis_data = prommis_LCA_data.main()"
   ]
  },
  {
   "cell_type": "markdown",
   "id": "bab72eee",
   "metadata": {},
   "source": [
    "## Step 3: Review PrOMMiS Results"
   ]
  },
  {
   "cell_type": "code",
   "execution_count": 8,
   "id": "63f5b88b",
   "metadata": {},
   "outputs": [
    {
     "data": {
      "text/html": [
       "<div>\n",
       "<style scoped>\n",
       "    .dataframe tbody tr th:only-of-type {\n",
       "        vertical-align: middle;\n",
       "    }\n",
       "\n",
       "    .dataframe tbody tr th {\n",
       "        vertical-align: top;\n",
       "    }\n",
       "\n",
       "    .dataframe thead th {\n",
       "        text-align: right;\n",
       "    }\n",
       "</style>\n",
       "<table border=\"1\" class=\"dataframe\">\n",
       "  <thead>\n",
       "    <tr style=\"text-align: right;\">\n",
       "      <th></th>\n",
       "      <th>Flow_ID</th>\n",
       "      <th>Flow</th>\n",
       "      <th>Source</th>\n",
       "      <th>In/Out</th>\n",
       "      <th>Category</th>\n",
       "      <th>Value 1</th>\n",
       "      <th>Unit 1</th>\n",
       "      <th>Value 2</th>\n",
       "      <th>Unit 2</th>\n",
       "    </tr>\n",
       "  </thead>\n",
       "  <tbody>\n",
       "    <tr>\n",
       "      <th>0</th>\n",
       "      <td>1</td>\n",
       "      <td>Inerts</td>\n",
       "      <td>Solid Feed</td>\n",
       "      <td>In</td>\n",
       "      <td>Material</td>\n",
       "      <td>22.68</td>\n",
       "      <td>kg/hr</td>\n",
       "      <td>0.6952</td>\n",
       "      <td>mass fraction</td>\n",
       "    </tr>\n",
       "    <tr>\n",
       "      <th>1</th>\n",
       "      <td>2</td>\n",
       "      <td>Scandium Oxide</td>\n",
       "      <td>Solid Feed</td>\n",
       "      <td>In</td>\n",
       "      <td>Material</td>\n",
       "      <td>22.68</td>\n",
       "      <td>kg/hr</td>\n",
       "      <td>0.000028</td>\n",
       "      <td>mass fraction</td>\n",
       "    </tr>\n",
       "    <tr>\n",
       "      <th>2</th>\n",
       "      <td>3</td>\n",
       "      <td>Yttrium Oxide</td>\n",
       "      <td>Solid Feed</td>\n",
       "      <td>In</td>\n",
       "      <td>Material</td>\n",
       "      <td>22.68</td>\n",
       "      <td>kg/hr</td>\n",
       "      <td>0.000033</td>\n",
       "      <td>mass fraction</td>\n",
       "    </tr>\n",
       "    <tr>\n",
       "      <th>3</th>\n",
       "      <td>4</td>\n",
       "      <td>Lanthanum Oxide</td>\n",
       "      <td>Solid Feed</td>\n",
       "      <td>In</td>\n",
       "      <td>Material</td>\n",
       "      <td>22.68</td>\n",
       "      <td>kg/hr</td>\n",
       "      <td>0.000068</td>\n",
       "      <td>mass fraction</td>\n",
       "    </tr>\n",
       "    <tr>\n",
       "      <th>4</th>\n",
       "      <td>5</td>\n",
       "      <td>Cerium Oxide</td>\n",
       "      <td>Solid Feed</td>\n",
       "      <td>In</td>\n",
       "      <td>Material</td>\n",
       "      <td>22.68</td>\n",
       "      <td>kg/hr</td>\n",
       "      <td>0.000156</td>\n",
       "      <td>mass fraction</td>\n",
       "    </tr>\n",
       "  </tbody>\n",
       "</table>\n",
       "</div>"
      ],
      "text/plain": [
       "   Flow_ID             Flow      Source In/Out  Category  Value 1 Unit 1  \\\n",
       "0        1           Inerts  Solid Feed     In  Material    22.68  kg/hr   \n",
       "1        2   Scandium Oxide  Solid Feed     In  Material    22.68  kg/hr   \n",
       "2        3    Yttrium Oxide  Solid Feed     In  Material    22.68  kg/hr   \n",
       "3        4  Lanthanum Oxide  Solid Feed     In  Material    22.68  kg/hr   \n",
       "4        5     Cerium Oxide  Solid Feed     In  Material    22.68  kg/hr   \n",
       "\n",
       "    Value 2         Unit 2  \n",
       "0    0.6952  mass fraction  \n",
       "1  0.000028  mass fraction  \n",
       "2  0.000033  mass fraction  \n",
       "3  0.000068  mass fraction  \n",
       "4  0.000156  mass fraction  "
      ]
     },
     "execution_count": 8,
     "metadata": {},
     "output_type": "execute_result"
    }
   ],
   "source": [
    "prommis_data.head()"
   ]
  },
  {
   "cell_type": "markdown",
   "id": "b2c4312d",
   "metadata": {},
   "source": [
    "## Step 4: Organize, Categorize, and Covert PrOMMiS Results to LCA Relevant Flows"
   ]
  },
  {
   "cell_type": "code",
   "execution_count": null,
   "id": "4be3e682",
   "metadata": {},
   "outputs": [],
   "source": []
  },
  {
   "cell_type": "markdown",
   "id": "9c866844",
   "metadata": {},
   "source": [
    "## Step 5: Review Main Inputs/Outputs and Select Functional Unit"
   ]
  },
  {
   "cell_type": "code",
   "execution_count": null,
   "id": "9c307bb1",
   "metadata": {},
   "outputs": [],
   "source": []
  },
  {
   "cell_type": "markdown",
   "id": "468b3002",
   "metadata": {},
   "source": [
    "## Step 6: Normalize Flows to the Selected Functional Unit and Review Final LCA Flows"
   ]
  },
  {
   "cell_type": "code",
   "execution_count": null,
   "id": "537e897e",
   "metadata": {},
   "outputs": [],
   "source": []
  },
  {
   "cell_type": "markdown",
   "id": "415efae3",
   "metadata": {},
   "source": [
    "## Step 7: Connect to openLCA"
   ]
  },
  {
   "cell_type": "code",
   "execution_count": 10,
   "id": "cc31e254",
   "metadata": {},
   "outputs": [
    {
     "name": "stderr",
     "output_type": "stream",
     "text": [
      "2025-07-30 16:44:06,713 - INFO - ✅ Connection test successful. Found 1955 processes.\n"
     ]
    },
    {
     "name": "stdout",
     "output_type": "stream",
     "text": [
      "\n",
      "🔌 STEP 1: Connecting to openLCA...\n",
      "✅ Connected to openLCA\n"
     ]
    }
   ],
   "source": [
    "print(\"\\n🔌 STEP 1: Connecting to openLCA...\")\n",
    "client = initialize_client()"
   ]
  },
  {
   "cell_type": "markdown",
   "id": "b49e1b9a",
   "metadata": {},
   "source": [
    "#### Define dataframe to be used"
   ]
  },
  {
   "cell_type": "markdown",
   "id": "fe6feda5",
   "metadata": {},
   "source": [
    "The dataframe should have the following columns: \n",
    "\n",
    "| Flow_Name | LCA_Unit | LCA_Amount | Is_Input | Reference_Product | Flow_Type | Description |"
   ]
  },
  {
   "cell_type": "code",
   "execution_count": 11,
   "id": "ad4f062f",
   "metadata": {},
   "outputs": [],
   "source": [
    "# Save the LCA data produced in previous steps in a dataframe called df\n",
    "data = {\n",
    "    'Flow_Name': ['Coal', 'Electricity', 'CO2', 'Water'],\n",
    "    'LCA_Unit': ['kg', 'kWh', 'kg', 'L'],\n",
    "    'LCA_Amount': [100.0, 1.0, 2.5, 10.0],\n",
    "    'Is_Input': [True, False, False, True],\n",
    "    'Reference_Product': [False, True, False, False],\n",
    "    'Flow_Type': ['ELEMENTARY_FLOW', 'PRODUCT_FLOW', 'ELEMENTARY_FLOW', 'ELEMENTARY_FLOW'],\n",
    "    'Description': ['Coal input', 'Electricity output', 'CO2 emission', 'Water input']\n",
    "}\n",
    "df = pd.DataFrame(data)\n"
   ]
  },
  {
   "cell_type": "markdown",
   "id": "65e26565",
   "metadata": {},
   "source": [
    "#### Enter Process Information\n",
    "##### Unit Process Name"
   ]
  },
  {
   "cell_type": "code",
   "execution_count": 12,
   "id": "0121e236",
   "metadata": {},
   "outputs": [],
   "source": [
    "process_name = \"Example Process Name\"  # Replace with the actual process name you want to use"
   ]
  },
  {
   "cell_type": "markdown",
   "id": "ae60c887",
   "metadata": {},
   "source": [
    "#### Unit Process Description "
   ]
  },
  {
   "cell_type": "code",
   "execution_count": 13,
   "id": "46304b81",
   "metadata": {},
   "outputs": [],
   "source": [
    "process_description = \" Example Process Description\"  # Replace with the actual process description you want to use"
   ]
  },
  {
   "cell_type": "markdown",
   "id": "e4ddb03a",
   "metadata": {},
   "source": [
    "#### Enter Unit Process Flows"
   ]
  },
  {
   "cell_type": "code",
   "execution_count": null,
   "id": "db70773f",
   "metadata": {},
   "outputs": [
    {
     "name": "stdout",
     "output_type": "stream",
     "text": [
      "\n",
      "🔍 Processing 4 flows for process: Example Process Name\n",
      "============================================================\n",
      "\n",
      "📋 Row 1: Coal\n",
      "   Unit: kg, Amount: 100.0\n",
      "   Type: Input\n",
      "\n",
      "🔍 Search Options for Flow: Coal\n",
      "💡 Choose search strategy:\n",
      "   1. Search in PROCESSES (e.g., 'Coal power plant', 'Steel production')\n",
      "   2. Search in FLOWS (e.g., 'CO2', 'Water', 'Electricity')\n",
      "   3. Skip this flow\n",
      "\n",
      "💡 Examples:\n",
      "   - For 'Coal': Choose PROCESSES (search for coal power plants)\n",
      "   - For 'CO2': Choose FLOWS (search for CO2 emissions flows)\n",
      "   - For 'Water': Choose FLOWS (search for water flows)\n",
      "Please enter 1, 2, or 3\n",
      "Please enter 1, 2, or 3\n",
      "Please enter 1, 2, or 3\n",
      "Please enter 1, 2, or 3\n",
      "Please enter 1, 2, or 3\n",
      "Please enter 1, 2, or 3\n",
      "Please enter 1, 2, or 3\n",
      "Please enter 1, 2, or 3\n",
      "Please enter 1, 2, or 3\n",
      "Please enter 1, 2, or 3\n",
      "Please enter 1, 2, or 3\n",
      "Please enter 1, 2, or 3\n",
      "Please enter 1, 2, or 3\n",
      "Please enter 1, 2, or 3\n",
      "Please enter 1, 2, or 3\n",
      "Please enter 1, 2, or 3\n",
      "Please enter 1, 2, or 3\n",
      "Please enter 1, 2, or 3\n",
      "Please enter 1, 2, or 3\n",
      "Please enter 1, 2, or 3\n",
      "Please enter 1, 2, or 3\n",
      "Please enter 1, 2, or 3\n",
      "Please enter 1, 2, or 3\n",
      "Please enter 1, 2, or 3\n",
      "Please enter 1, 2, or 3\n",
      "Please enter 1, 2, or 3\n",
      "Please enter 1, 2, or 3\n",
      "Please enter 1, 2, or 3\n",
      "Please enter 1, 2, or 3\n",
      "Please enter 1, 2, or 3\n",
      "Please enter 1, 2, or 3\n",
      "Please enter 1, 2, or 3\n",
      "Please enter 1, 2, or 3\n",
      "Please enter 1, 2, or 3\n",
      "Please enter 1, 2, or 3\n",
      "Please enter 1, 2, or 3\n",
      "Please enter 1, 2, or 3\n",
      "Please enter 1, 2, or 3\n",
      "Please enter 1, 2, or 3\n",
      "Please enter 1, 2, or 3\n",
      "Please enter 1, 2, or 3\n",
      "Please enter 1, 2, or 3\n",
      "Please enter 1, 2, or 3\n",
      "Please enter 1, 2, or 3\n",
      "Please enter 1, 2, or 3\n",
      "Please enter 1, 2, or 3\n",
      "Please enter 1, 2, or 3\n",
      "Please enter 1, 2, or 3\n",
      "Please enter 1, 2, or 3\n",
      "Please enter 1, 2, or 3\n",
      "Please enter 1, 2, or 3\n",
      "Please enter 1, 2, or 3\n",
      "Please enter 1, 2, or 3\n",
      "Please enter 1, 2, or 3\n",
      "Please enter 1, 2, or 3\n"
     ]
    }
   ],
   "source": [
    "process = create_process_from_dataframe_with_selection(\n",
    "    client=client,\n",
    "    df=df,\n",
    "    process_name=process_name,\n",
    "    process_description=process_description\n",
    ")\n"
   ]
  },
  {
   "cell_type": "markdown",
   "id": "0a1c83a6",
   "metadata": {},
   "source": [
    "## Step 8: Create Process in openLCA from the final dataframe produced in Step 6 "
   ]
  },
  {
   "cell_type": "code",
   "execution_count": null,
   "id": "e353671c",
   "metadata": {},
   "outputs": [],
   "source": []
  }
 ],
 "metadata": {
  "kernelspec": {
   "display_name": "olca_env",
   "language": "python",
   "name": "python3"
  },
  "language_info": {
   "codemirror_mode": {
    "name": "ipython",
    "version": 3
   },
   "file_extension": ".py",
   "mimetype": "text/x-python",
   "name": "python",
   "nbconvert_exporter": "python",
   "pygments_lexer": "ipython3",
   "version": "3.13.5"
  }
 },
 "nbformat": 4,
 "nbformat_minor": 5
}
