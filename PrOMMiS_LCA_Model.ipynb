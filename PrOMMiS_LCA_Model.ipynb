{
 "cells": [
  {
   "cell_type": "markdown",
   "id": "d67c5d88",
   "metadata": {},
   "source": [
    "# **<span style=\"color: black; font-size:1em;\">PrOMMiS LCA Integration: Environmental Life Cycle Assessment Using PrOMMiS Modeling Results</span>**"
   ]
  },
  {
   "cell_type": "markdown",
   "id": "abd8a7ae",
   "metadata": {},
   "source": [
    "## <span style=\"color:black; font-weight:bold\"> Introduction </span> \n",
    "\n",
    "<span style = \"color:black\">\n",
    "This document demonstrates the application of Life Cycle Assessment (LCA) methodology to the optimized results from the PrOMMiS model.  \n",
    "This Jupyter Notebook presents an example LCA application to the West Kentucky No.13 Coal Refuse Flowsheet optimized in the PrOMMiS model.\n",
    "\n",
    "**Useful notes, definitions, and links:**\n",
    "- **PrOMMiS model:** Process Optimization and Modeling for Minerals Sustainability initiative, led by the U.S. Department of Energy (DOE), specifically under NETL (National Energy Technology Laboratory).\n",
    "- **PrOMMiS public GitHub Repository:** [https://github.com/prommis/prommis/tree/main](https://github.com/prommis/prommis/tree/main)\n",
    "- **UKy Flowsheet Code:** [https://github.com/prommis/prommis/blob/main/src/prommis/uky/uky_flowsheet.py](https://github.com/prommis/prommis/blob/main/src/prommis/uky/uky_flowsheet.py)\n",
    "\n",
    "</span>"
   ]
  },
  {
   "cell_type": "markdown",
   "id": "8e0f4143",
   "metadata": {},
   "source": [
    "<div style=\"text-align: center;\">\n",
    "    <img src=\"images\\uky_flowsheet.png\" width=\"1000\"/>\n",
    "</div>"
   ]
  },
  {
   "cell_type": "markdown",
   "id": "a56d543d",
   "metadata": {},
   "source": [
    "## <span style=\"color:black; font-weight:bold\"> Step 1: Import the necessary tools </span> "
   ]
  },
  {
   "cell_type": "code",
   "execution_count": 2,
   "id": "18ef7b90",
   "metadata": {},
   "outputs": [],
   "source": [
    "# import main libraries\n",
    "import pandas as pd\n",
    "import numpy as np\n",
    "import olca_ipc\n",
    "import olca_schema as olca\n",
    "import netlolca\n",
    "from netlolca.NetlOlca import NetlOlca\n",
    "from typing import Union, List, Optional\n",
    "\n",
    "from pyomo.environ import (units,value,)\n",
    "\n",
    "import pubchempy as pcp\n",
    "\n",
    "from pymatgen.core import Composition\n",
    "\n",
    "from warnings import warn\n",
    "\n",
    "# module to run the PrOMMiS model\n",
    "import prommis.uky.uky_flowsheet as uky\n",
    "# module to extract the data from the PrOMMiS model\n",
    "from src import prommis_LCA_data\n",
    "# module to run convert the PrOMMiS model data to LCA data\n",
    "from src import prommis_LCA_conversions\n",
    "# module to finalize the LCA data\n",
    "from src import finalize_LCA_flows\n",
    "\n",
    "# modules to connect to openLCA\n",
    "from src.create_olca_process import create_new_process, find_processes_by_flow, flow_search_function"
   ]
  },
  {
   "cell_type": "markdown",
   "id": "1f5d286a",
   "metadata": {},
   "source": [
    "## <span style=\"color:black; font-weight:bold\"> Step 2: Run PrOMMiS Optimization Model for the UKy flowsheet and extract model results </span> "
   ]
  },
  {
   "cell_type": "code",
   "execution_count": null,
   "id": "9f0e9790",
   "metadata": {},
   "outputs": [],
   "source": [
    "# Run PrOMMiS model \n",
    "m, results = uky.main()\n",
    "\n",
    "# Extract LCA data\n",
    "prommis_data = prommis_LCA_data.get_lca_df(m, )\n",
    "prommis_data.to_csv(\"lca_df.csv\")"
   ]
  },
  {
   "cell_type": "markdown",
   "id": "bab72eee",
   "metadata": {},
   "source": [
    "## <span style=\"color:black; font-weight:bold\"> Step 3: Review PrOMMiS Results </span> "
   ]
  },
  {
   "cell_type": "code",
   "execution_count": null,
   "id": "63f5b88b",
   "metadata": {},
   "outputs": [],
   "source": [
    "prommis_data.head()"
   ]
  },
  {
   "cell_type": "markdown",
   "id": "b2c4312d",
   "metadata": {},
   "source": [
    "## <span style=\"color:black; font-weight:bold\"> Step 4: Organize, Categorize, and Covert PrOMMiS Results to LCA Relevant Flows </span> "
   ]
  },
  {
   "cell_type": "code",
   "execution_count": null,
   "id": "4be3e682",
   "metadata": {},
   "outputs": [],
   "source": [
    "# Hours is the time period for the conversion\n",
    "# mol_to_kg is a boolean that indicates whether to convert moles to kg\n",
    "# water_unit is the unit of water (m3 or L recommended, kg is also an option)\n",
    "df = prommis_LCA_conversions.convert_flows_to_lca_units(prommis_data, hours=1, mol_to_kg=True, water_unit='m3')\n",
    "df.to_csv('lca_df_converted.csv', index=False)\n",
    "\n",
    "# Finalize the LCA data\n",
    "df = pd.read_csv('lca_df_converted.csv')\n",
    "df = finalize_LCA_flows.main()\n",
    "df.to_csv('lca_df_finalized.csv', index=False)\n",
    "\n",
    "# This will create a new datafrane and csv file that contains the initial prommis_data df with two additional columns:\n",
    "# 'LCA Amount' and 'LCA Unit'"
   ]
  },
  {
   "cell_type": "markdown",
   "id": "468b3002",
   "metadata": {},
   "source": [
    "## <span style=\"color:black; font-weight:bold\"> Step 5: Normalize Flows to the Selected Functional Unit and Review Final LCA Flows </span> "
   ]
  },
  {
   "cell_type": "code",
   "execution_count": null,
   "id": "537e897e",
   "metadata": {},
   "outputs": [],
   "source": [
    "# The below code will normalize the converted prommis data to a functional unit\n",
    "# Note: This code is developed for the UKy flowsheet and the functional unit is automatically set to 1 kg of REO (combination of all REEs)\n",
    "# TODO: This code should be developed for the other flowsheets. To achieve this, the user should be able to specify the desired functional unit\n",
    "df = pd.read_csv('lca_df_converted.csv')\n",
    "\n",
    "# Run the merge_flows function for the feed\n",
    "REO_list = [\n",
    "    \"Yttrium Oxide\",\n",
    "    \"Lanthanum Oxide\",\n",
    "    \"Cerium Oxide\",\n",
    "    \"Praseodymium Oxide\",\n",
    "    \"Neodymium Oxide\",\n",
    "    \"Samarium Oxide\",\n",
    "    \"Gadolinium Oxide\",\n",
    "    \"Dysprosium Oxide\",\n",
    "]\n",
    "df = finalize_LCA_flows.merge_flows(df, merge_source='Solid Feed', new_flow_name='374 ppm REO Feed', value_2_merge=REO_list)\n",
    "# This 374 ppm value is directly calculated from the flowsheet. The original study actually used 357 ppm as the feed concentration.\n",
    "\n",
    "# Run the merge_flows function for the product\n",
    "df = finalize_LCA_flows.merge_flows(df, merge_source='Roaster Product', new_flow_name='99.85% REO Product')\n",
    "\n",
    "# Run the merge_flows function for the liquid waste flows\n",
    "df = finalize_LCA_flows.merge_flows(df, merge_source='Wastewater', new_flow_name='Wastewater', merge_column='Category') \n",
    "# Note: some of these streams are organic waste, but they're treated as wastewater\n",
    "\n",
    "# Run the merge_flows function for the solid waste flows\n",
    "df = finalize_LCA_flows.merge_flows(df, merge_source='Solid Waste', new_flow_name='Solid Waste', merge_column='Category') \n",
    "\n",
    "# Run the finalize_df function\n",
    "try:\n",
    "    finalized_df = finalize_LCA_flows.finalize_df(\n",
    "        df=df, \n",
    "        reference_flow='99.85% REO Product', \n",
    "        reference_source='Roaster Product',\n",
    "        water_type='raw fresh water'\n",
    "    )\n",
    "    \n",
    "    # Get summary\n",
    "    summary = finalize_LCA_flows.get_finalize_summary(finalized_df)\n",
    "    print(\"Summary:\")\n",
    "    for key, value in summary.items():\n",
    "        if key != 'flow_type_breakdown':\n",
    "            print(f\"  {key}: {value}\")\n",
    "    \n",
    "    print(\"\\nFlow Type Breakdown:\")\n",
    "    for flow_type, count in summary['flow_type_breakdown'].items():\n",
    "        print(f\"  {flow_type}: {count}\")\n",
    "        \n",
    "except Exception as e:\n",
    "    print(f\"Error during finalization: {e}\")\n",
    "\n",
    "finalized_df.to_csv('lca_df_finalized.csv', index=False)"
   ]
  },
  {
   "cell_type": "markdown",
   "id": "415efae3",
   "metadata": {},
   "source": [
    "## <span style=\"color:black; font-weight:bold\"> Step 6: Connect to openLCA </span> "
   ]
  },
  {
   "cell_type": "markdown",
   "id": "40a8e272",
   "metadata": {},
   "source": [
    "#### <span style=\"color:black; font-weight:bold\"> Notes on modeling this process using openLCA </span> "
   ]
  },
  {
   "cell_type": "markdown",
   "id": "1cc0faf6",
   "metadata": {},
   "source": [
    "Before running the following code:\n",
    "- Open the software openLCA\n",
    "- Open an existing database or create a new one\n",
    "- Import libraries with existing processes\n",
    "- Use the IPC server from the Developer Tools\n",
    "- Run the server on port 8080 "
   ]
  },
  {
   "cell_type": "code",
   "execution_count": null,
   "id": "cc31e254",
   "metadata": {},
   "outputs": [],
   "source": [
    "netl = NetlOlca()\n",
    "netl.connect()\n",
    "netl.read()"
   ]
  },
  {
   "cell_type": "markdown",
   "id": "b49e1b9a",
   "metadata": {},
   "source": [
    "#### <span style=\"color:black; font-weight:bold\"> Define dataframe to be used </span> "
   ]
  },
  {
   "cell_type": "markdown",
   "id": "fe6feda5",
   "metadata": {},
   "source": [
    "<span style=\"color:black\"> \n",
    "\n",
    "The dataframe should have the following columns: \n",
    "\n",
    "| Flow_Name | LCA_Unit | LCA_Amount | Is_Input | Reference_Product | Flow_Type | Description |\n",
    "\n",
    "</span>"
   ]
  },
  {
   "cell_type": "code",
   "execution_count": null,
   "id": "ad4f062f",
   "metadata": {},
   "outputs": [],
   "source": [
    "# Save the LCA data produced in previous steps in a dataframe called df\n",
    "df = pd.read_csv('lca_df_finalized.csv')\n"
   ]
  },
  {
   "cell_type": "markdown",
   "id": "65e26565",
   "metadata": {},
   "source": [
    "#### <span style=\"color:black; font-weight:bold\"> Enter Process Information </span> \n",
    "\n",
    "##### <span style=\"color:black; font-weight:bold\"> Unit Process Name </span> "
   ]
  },
  {
   "cell_type": "code",
   "execution_count": null,
   "id": "0121e236",
   "metadata": {},
   "outputs": [],
   "source": [
    "process_name = \"Test Process 1\"  # Replace with the actual process name you want to use"
   ]
  },
  {
   "cell_type": "markdown",
   "id": "ae60c887",
   "metadata": {},
   "source": [
    "##### <span style=\"color:black; font-weight:bold\"> Unit Process Description </span> "
   ]
  },
  {
   "cell_type": "code",
   "execution_count": null,
   "id": "46304b81",
   "metadata": {},
   "outputs": [],
   "source": [
    "process_description = \" Example Process Description\"  # Replace with the actual process description you want to use"
   ]
  },
  {
   "cell_type": "markdown",
   "id": "e4ddb03a",
   "metadata": {},
   "source": [
    "##### <span style=\"color:black; font-weight:bold\"> Create process with exchanges </span> "
   ]
  },
  {
   "cell_type": "markdown",
   "id": "9034e85e",
   "metadata": {},
   "source": [
    "<span style=\"color:black\">  \n",
    "\n",
    "The functioning features include:\n",
    "* Create a new empty process\n",
    "* Create an exchange of the reference flow\n",
    "\n",
    "Intermediate functions/features that have been developed include:\n",
    "* Search for a flow by keyword\n",
    "* Search for processes that produce a given flow\n",
    "    * This feature is being optimized to minimize user waiting time\n",
    "* Create exchanges for elementary flows given their uuid, amount, and unit\n",
    "\n",
    "The features under development:\n",
    "* Create exchange for a given flow and process IDs\n",
    "* Develop an interactive user interface, allowing the user to create a new process in openLCA\n",
    "</span>"
   ]
  },
  {
   "cell_type": "code",
   "execution_count": null,
   "id": "db70773f",
   "metadata": {},
   "outputs": [],
   "source": [
    "process = create_new_process(netl,df,process_name,process_description)"
   ]
  }
 ],
 "metadata": {
  "kernelspec": {
   "display_name": "olca_env",
   "language": "python",
   "name": "python3"
  },
  "language_info": {
   "codemirror_mode": {
    "name": "ipython",
    "version": 3
   },
   "file_extension": ".py",
   "mimetype": "text/x-python",
   "name": "python",
   "nbconvert_exporter": "python",
   "pygments_lexer": "ipython3",
   "version": "3.13.5"
  }
 },
 "nbformat": 4,
 "nbformat_minor": 5
}
